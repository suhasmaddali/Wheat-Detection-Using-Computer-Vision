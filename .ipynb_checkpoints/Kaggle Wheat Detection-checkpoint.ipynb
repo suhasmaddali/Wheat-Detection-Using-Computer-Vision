{
 "cells": [
  {
   "cell_type": "code",
   "execution_count": 73,
   "metadata": {
    "execution": {
     "iopub.execute_input": "2021-10-11T17:27:27.385476Z",
     "iopub.status.busy": "2021-10-11T17:27:27.384589Z",
     "iopub.status.idle": "2021-10-11T17:27:27.389462Z",
     "shell.execute_reply": "2021-10-11T17:27:27.388788Z",
     "shell.execute_reply.started": "2021-10-11T17:27:27.385443Z"
    }
   },
   "outputs": [],
   "source": [
    "import pandas as pd\n",
    "from pathlib import Path"
   ]
  },
  {
   "cell_type": "code",
   "execution_count": 74,
   "metadata": {
    "execution": {
     "iopub.execute_input": "2021-10-11T17:26:50.604680Z",
     "iopub.status.busy": "2021-10-11T17:26:50.603886Z",
     "iopub.status.idle": "2021-10-11T17:26:50.800839Z",
     "shell.execute_reply": "2021-10-11T17:26:50.800003Z",
     "shell.execute_reply.started": "2021-10-11T17:26:50.604629Z"
    }
   },
   "outputs": [],
   "source": [
    "df_train = pd.read_csv('train.csv')"
   ]
  },
  {
   "cell_type": "code",
   "execution_count": 75,
   "metadata": {
    "execution": {
     "iopub.execute_input": "2021-10-11T17:26:51.856810Z",
     "iopub.status.busy": "2021-10-11T17:26:51.855820Z",
     "iopub.status.idle": "2021-10-11T17:26:51.872901Z",
     "shell.execute_reply": "2021-10-11T17:26:51.871800Z",
     "shell.execute_reply.started": "2021-10-11T17:26:51.856760Z"
    }
   },
   "outputs": [
    {
     "data": {
      "text/html": [
       "<div>\n",
       "<style scoped>\n",
       "    .dataframe tbody tr th:only-of-type {\n",
       "        vertical-align: middle;\n",
       "    }\n",
       "\n",
       "    .dataframe tbody tr th {\n",
       "        vertical-align: top;\n",
       "    }\n",
       "\n",
       "    .dataframe thead th {\n",
       "        text-align: right;\n",
       "    }\n",
       "</style>\n",
       "<table border=\"1\" class=\"dataframe\">\n",
       "  <thead>\n",
       "    <tr style=\"text-align: right;\">\n",
       "      <th></th>\n",
       "      <th>image_id</th>\n",
       "      <th>width</th>\n",
       "      <th>height</th>\n",
       "      <th>bbox</th>\n",
       "      <th>source</th>\n",
       "    </tr>\n",
       "  </thead>\n",
       "  <tbody>\n",
       "    <tr>\n",
       "      <th>0</th>\n",
       "      <td>b6ab77fd7</td>\n",
       "      <td>1024</td>\n",
       "      <td>1024</td>\n",
       "      <td>[834.0, 222.0, 56.0, 36.0]</td>\n",
       "      <td>usask_1</td>\n",
       "    </tr>\n",
       "    <tr>\n",
       "      <th>1</th>\n",
       "      <td>b6ab77fd7</td>\n",
       "      <td>1024</td>\n",
       "      <td>1024</td>\n",
       "      <td>[226.0, 548.0, 130.0, 58.0]</td>\n",
       "      <td>usask_1</td>\n",
       "    </tr>\n",
       "    <tr>\n",
       "      <th>2</th>\n",
       "      <td>b6ab77fd7</td>\n",
       "      <td>1024</td>\n",
       "      <td>1024</td>\n",
       "      <td>[377.0, 504.0, 74.0, 160.0]</td>\n",
       "      <td>usask_1</td>\n",
       "    </tr>\n",
       "    <tr>\n",
       "      <th>3</th>\n",
       "      <td>b6ab77fd7</td>\n",
       "      <td>1024</td>\n",
       "      <td>1024</td>\n",
       "      <td>[834.0, 95.0, 109.0, 107.0]</td>\n",
       "      <td>usask_1</td>\n",
       "    </tr>\n",
       "    <tr>\n",
       "      <th>4</th>\n",
       "      <td>b6ab77fd7</td>\n",
       "      <td>1024</td>\n",
       "      <td>1024</td>\n",
       "      <td>[26.0, 144.0, 124.0, 117.0]</td>\n",
       "      <td>usask_1</td>\n",
       "    </tr>\n",
       "  </tbody>\n",
       "</table>\n",
       "</div>"
      ],
      "text/plain": [
       "    image_id  width  height                         bbox   source\n",
       "0  b6ab77fd7   1024    1024   [834.0, 222.0, 56.0, 36.0]  usask_1\n",
       "1  b6ab77fd7   1024    1024  [226.0, 548.0, 130.0, 58.0]  usask_1\n",
       "2  b6ab77fd7   1024    1024  [377.0, 504.0, 74.0, 160.0]  usask_1\n",
       "3  b6ab77fd7   1024    1024  [834.0, 95.0, 109.0, 107.0]  usask_1\n",
       "4  b6ab77fd7   1024    1024  [26.0, 144.0, 124.0, 117.0]  usask_1"
      ]
     },
     "execution_count": 75,
     "metadata": {},
     "output_type": "execute_result"
    }
   ],
   "source": [
    "df_train.head()"
   ]
  },
  {
   "cell_type": "code",
   "execution_count": 76,
   "metadata": {},
   "outputs": [
    {
     "data": {
      "text/plain": [
       "ethz_1       51489\n",
       "arvalis_1    45716\n",
       "rres_1       20236\n",
       "arvalis_3    16665\n",
       "usask_1       5807\n",
       "arvalis_2     4179\n",
       "inrae_1       3701\n",
       "Name: source, dtype: int64"
      ]
     },
     "execution_count": 76,
     "metadata": {},
     "output_type": "execute_result"
    }
   ],
   "source": [
    "df_train['source'].value_counts()"
   ]
  },
  {
   "cell_type": "code",
   "execution_count": 77,
   "metadata": {
    "execution": {
     "iopub.execute_input": "2021-10-11T17:26:52.942478Z",
     "iopub.status.busy": "2021-10-11T17:26:52.942195Z",
     "iopub.status.idle": "2021-10-11T17:26:52.968551Z",
     "shell.execute_reply": "2021-10-11T17:26:52.967842Z",
     "shell.execute_reply.started": "2021-10-11T17:26:52.942451Z"
    }
   },
   "outputs": [
    {
     "data": {
      "text/html": [
       "<div>\n",
       "<style scoped>\n",
       "    .dataframe tbody tr th:only-of-type {\n",
       "        vertical-align: middle;\n",
       "    }\n",
       "\n",
       "    .dataframe tbody tr th {\n",
       "        vertical-align: top;\n",
       "    }\n",
       "\n",
       "    .dataframe thead th {\n",
       "        text-align: right;\n",
       "    }\n",
       "</style>\n",
       "<table border=\"1\" class=\"dataframe\">\n",
       "  <thead>\n",
       "    <tr style=\"text-align: right;\">\n",
       "      <th></th>\n",
       "      <th>width</th>\n",
       "      <th>height</th>\n",
       "    </tr>\n",
       "  </thead>\n",
       "  <tbody>\n",
       "    <tr>\n",
       "      <th>count</th>\n",
       "      <td>147793.0</td>\n",
       "      <td>147793.0</td>\n",
       "    </tr>\n",
       "    <tr>\n",
       "      <th>mean</th>\n",
       "      <td>1024.0</td>\n",
       "      <td>1024.0</td>\n",
       "    </tr>\n",
       "    <tr>\n",
       "      <th>std</th>\n",
       "      <td>0.0</td>\n",
       "      <td>0.0</td>\n",
       "    </tr>\n",
       "    <tr>\n",
       "      <th>min</th>\n",
       "      <td>1024.0</td>\n",
       "      <td>1024.0</td>\n",
       "    </tr>\n",
       "    <tr>\n",
       "      <th>25%</th>\n",
       "      <td>1024.0</td>\n",
       "      <td>1024.0</td>\n",
       "    </tr>\n",
       "    <tr>\n",
       "      <th>50%</th>\n",
       "      <td>1024.0</td>\n",
       "      <td>1024.0</td>\n",
       "    </tr>\n",
       "    <tr>\n",
       "      <th>75%</th>\n",
       "      <td>1024.0</td>\n",
       "      <td>1024.0</td>\n",
       "    </tr>\n",
       "    <tr>\n",
       "      <th>max</th>\n",
       "      <td>1024.0</td>\n",
       "      <td>1024.0</td>\n",
       "    </tr>\n",
       "  </tbody>\n",
       "</table>\n",
       "</div>"
      ],
      "text/plain": [
       "          width    height\n",
       "count  147793.0  147793.0\n",
       "mean     1024.0    1024.0\n",
       "std         0.0       0.0\n",
       "min      1024.0    1024.0\n",
       "25%      1024.0    1024.0\n",
       "50%      1024.0    1024.0\n",
       "75%      1024.0    1024.0\n",
       "max      1024.0    1024.0"
      ]
     },
     "execution_count": 77,
     "metadata": {},
     "output_type": "execute_result"
    }
   ],
   "source": [
    "df_train.describe()"
   ]
  },
  {
   "cell_type": "code",
   "execution_count": 78,
   "metadata": {
    "execution": {
     "iopub.execute_input": "2021-10-11T17:26:53.813915Z",
     "iopub.status.busy": "2021-10-11T17:26:53.813586Z",
     "iopub.status.idle": "2021-10-11T17:26:53.873924Z",
     "shell.execute_reply": "2021-10-11T17:26:53.873066Z",
     "shell.execute_reply.started": "2021-10-11T17:26:53.813885Z"
    }
   },
   "outputs": [
    {
     "name": "stdout",
     "output_type": "stream",
     "text": [
      "<class 'pandas.core.frame.DataFrame'>\n",
      "RangeIndex: 147793 entries, 0 to 147792\n",
      "Data columns (total 5 columns):\n",
      " #   Column    Non-Null Count   Dtype \n",
      "---  ------    --------------   ----- \n",
      " 0   image_id  147793 non-null  object\n",
      " 1   width     147793 non-null  int64 \n",
      " 2   height    147793 non-null  int64 \n",
      " 3   bbox      147793 non-null  object\n",
      " 4   source    147793 non-null  object\n",
      "dtypes: int64(2), object(3)\n",
      "memory usage: 5.6+ MB\n"
     ]
    }
   ],
   "source": [
    "df_train.info()"
   ]
  },
  {
   "cell_type": "code",
   "execution_count": 79,
   "metadata": {
    "execution": {
     "iopub.execute_input": "2021-10-11T17:26:54.517600Z",
     "iopub.status.busy": "2021-10-11T17:26:54.517338Z",
     "iopub.status.idle": "2021-10-11T17:26:54.521889Z",
     "shell.execute_reply": "2021-10-11T17:26:54.521011Z",
     "shell.execute_reply.started": "2021-10-11T17:26:54.517572Z"
    }
   },
   "outputs": [],
   "source": [
    "import missingno as msno\n",
    "import warnings\n",
    "warnings.filterwarnings(\"ignore\")"
   ]
  },
  {
   "cell_type": "code",
   "execution_count": 80,
   "metadata": {
    "execution": {
     "iopub.execute_input": "2021-10-11T17:27:05.326364Z",
     "iopub.status.busy": "2021-10-11T17:27:05.326073Z",
     "iopub.status.idle": "2021-10-11T17:27:06.197159Z",
     "shell.execute_reply": "2021-10-11T17:27:06.195599Z",
     "shell.execute_reply.started": "2021-10-11T17:27:05.326335Z"
    }
   },
   "outputs": [
    {
     "data": {
      "text/plain": [
       "<AxesSubplot:>"
      ]
     },
     "execution_count": 80,
     "metadata": {},
     "output_type": "execute_result"
    },
    {
     "data": {
      "image/png": "[encoded data removed]",
      "text/plain": [
       "<Figure size 1800x720 with 2 Axes>"
      ]
     },
     "metadata": {
      "needs_background": "light"
     },
     "output_type": "display_data"
    }
   ],
   "source": [
    "msno.matrix(df_train)"
   ]
  },
  {
   "cell_type": "code",
   "execution_count": 81,
   "metadata": {
    "execution": {
     "iopub.execute_input": "2021-10-11T17:25:16.811662Z",
     "iopub.status.busy": "2021-10-11T17:25:16.811432Z",
     "iopub.status.idle": "2021-10-11T17:25:16.837265Z",
     "shell.execute_reply": "2021-10-11T17:25:16.836334Z",
     "shell.execute_reply.started": "2021-10-11T17:25:16.811633Z"
    }
   },
   "outputs": [
    {
     "data": {
      "text/plain": [
       "ethz_1       51489\n",
       "arvalis_1    45716\n",
       "rres_1       20236\n",
       "arvalis_3    16665\n",
       "usask_1       5807\n",
       "arvalis_2     4179\n",
       "inrae_1       3701\n",
       "Name: source, dtype: int64"
      ]
     },
     "execution_count": 81,
     "metadata": {},
     "output_type": "execute_result"
    }
   ],
   "source": [
    "df_train['source'].value_counts()"
   ]
  },
  {
   "cell_type": "code",
   "execution_count": 82,
   "metadata": {
    "execution": {
     "iopub.execute_input": "2021-10-11T17:25:16.838771Z",
     "iopub.status.busy": "2021-10-11T17:25:16.838567Z",
     "iopub.status.idle": "2021-10-11T17:25:16.866633Z",
     "shell.execute_reply": "2021-10-11T17:25:16.866018Z",
     "shell.execute_reply.started": "2021-10-11T17:25:16.838748Z"
    }
   },
   "outputs": [],
   "source": [
    "source_value_counts = df_train['source'].value_counts()\n",
    "source_index_values = source_value_counts.index\n",
    "source_values = source_value_counts.index"
   ]
  },
  {
   "cell_type": "code",
   "execution_count": 83,
   "metadata": {
    "execution": {
     "iopub.execute_input": "2021-10-11T17:25:16.868342Z",
     "iopub.status.busy": "2021-10-11T17:25:16.868057Z",
     "iopub.status.idle": "2021-10-11T17:25:16.878473Z",
     "shell.execute_reply": "2021-10-11T17:25:16.877747Z",
     "shell.execute_reply.started": "2021-10-11T17:25:16.868313Z"
    }
   },
   "outputs": [],
   "source": [
    "import seaborn as sns\n",
    "import matplotlib.pyplot as plt"
   ]
  },
  {
   "cell_type": "code",
   "execution_count": 84,
   "metadata": {
    "execution": {
     "iopub.execute_input": "2021-10-11T17:25:16.879884Z",
     "iopub.status.busy": "2021-10-11T17:25:16.879677Z",
     "iopub.status.idle": "2021-10-11T17:25:17.358244Z",
     "shell.execute_reply": "2021-10-11T17:25:17.357338Z",
     "shell.execute_reply.started": "2021-10-11T17:25:16.879859Z"
    }
   },
   "outputs": [
    {
     "data": {
      "image/png": "[encoded data removed]",
      "text/plain": [
       "<Figure size 576x576 with 1 Axes>"
      ]
     },
     "metadata": {
      "needs_background": "light"
     },
     "output_type": "display_data"
    }
   ],
   "source": [
    "plt.figure(figsize = (8, 8))\n",
    "sns.countplot(x = df_train['source'], data = df_train)\n",
    "plt.show()"
   ]
  },
  {
   "cell_type": "code",
   "execution_count": 85,
   "metadata": {
    "execution": {
     "iopub.execute_input": "2021-10-11T17:25:17.359568Z",
     "iopub.status.busy": "2021-10-11T17:25:17.359360Z",
     "iopub.status.idle": "2021-10-11T17:25:17.384952Z",
     "shell.execute_reply": "2021-10-11T17:25:17.384051Z",
     "shell.execute_reply.started": "2021-10-11T17:25:17.359543Z"
    }
   },
   "outputs": [
    {
     "data": {
      "text/plain": [
       "array([51489, 45716, 20236, 16665,  5807,  4179,  3701], dtype=int64)"
      ]
     },
     "execution_count": 85,
     "metadata": {},
     "output_type": "execute_result"
    }
   ],
   "source": [
    "df_train['source'].value_counts().values"
   ]
  },
  {
   "cell_type": "code",
   "execution_count": 86,
   "metadata": {
    "execution": {
     "iopub.execute_input": "2021-10-11T17:25:17.386291Z",
     "iopub.status.busy": "2021-10-11T17:25:17.386090Z",
     "iopub.status.idle": "2021-10-11T17:25:17.394655Z",
     "shell.execute_reply": "2021-10-11T17:25:17.393819Z",
     "shell.execute_reply.started": "2021-10-11T17:25:17.386267Z"
    }
   },
   "outputs": [],
   "source": [
    "import seaborn as sns\n",
    "from glob import glob"
   ]
  },
  {
   "cell_type": "code",
   "execution_count": 87,
   "metadata": {},
   "outputs": [],
   "source": [
    "TRAIN_PATH = '../Wheat Detection Dataset/train/'\n",
    "TEST_PATH = '../Wheat Detection Dataset/test/'\n",
    "\n",
    "TRAIN_IMAGES = glob(TRAIN_PATH + '*')\n",
    "TEST_IMAGES = glob(TEST_PATH + '*')"
   ]
  },
  {
   "cell_type": "code",
   "execution_count": 88,
   "metadata": {},
   "outputs": [
    {
     "data": {
      "text/plain": [
       "['../Wheat Detection Dataset/train\\\\00333207f.jpg',\n",
       " '../Wheat Detection Dataset/train\\\\005b0d8bb.jpg',\n",
       " '../Wheat Detection Dataset/train\\\\006a994f7.jpg',\n",
       " '../Wheat Detection Dataset/train\\\\00764ad5d.jpg',\n",
       " '../Wheat Detection Dataset/train\\\\00b5c6764.jpg']"
      ]
     },
     "execution_count": 88,
     "metadata": {},
     "output_type": "execute_result"
    }
   ],
   "source": [
    "TRAIN_IMAGES[0: 5]"
   ]
  },
  {
   "cell_type": "code",
   "execution_count": 89,
   "metadata": {},
   "outputs": [
    {
     "data": {
      "text/plain": [
       "['../Wheat Detection Dataset/test\\\\2fd875eaa.jpg',\n",
       " '../Wheat Detection Dataset/test\\\\348a992bb.jpg',\n",
       " '../Wheat Detection Dataset/test\\\\51b3e36ab.jpg',\n",
       " '../Wheat Detection Dataset/test\\\\51f1be19e.jpg',\n",
       " '../Wheat Detection Dataset/test\\\\53f253011.jpg']"
      ]
     },
     "execution_count": 89,
     "metadata": {},
     "output_type": "execute_result"
    }
   ],
   "source": [
    "TEST_IMAGES[0: 5]"
   ]
  },
  {
   "cell_type": "code",
   "execution_count": 90,
   "metadata": {},
   "outputs": [
    {
     "name": "stdout",
     "output_type": "stream",
     "text": [
      "The length of the training data is: 3422\n",
      "The length of the test data is: 10\n"
     ]
    }
   ],
   "source": [
    "print(\"The length of the training data is: {}\".format(len(TRAIN_IMAGES)))\n",
    "print(\"The length of the test data is: {}\".format(len(TEST_IMAGES)))"
   ]
  },
  {
   "cell_type": "code",
   "execution_count": null,
   "metadata": {},
   "outputs": [],
   "source": []
  },
  {
   "cell_type": "code",
   "execution_count": 91,
   "metadata": {
    "execution": {
     "iopub.execute_input": "2021-10-11T17:25:17.398343Z",
     "iopub.status.busy": "2021-10-11T17:25:17.398081Z",
     "iopub.status.idle": "2021-10-11T17:25:17.412031Z",
     "shell.execute_reply": "2021-10-11T17:25:17.411063Z",
     "shell.execute_reply.started": "2021-10-11T17:25:17.398315Z"
    }
   },
   "outputs": [],
   "source": [
    "sample_submission = pd.read_csv(\"sample_submission.csv\")"
   ]
  },
  {
   "cell_type": "code",
   "execution_count": 92,
   "metadata": {
    "execution": {
     "iopub.execute_input": "2021-10-11T17:25:17.413495Z",
     "iopub.status.busy": "2021-10-11T17:25:17.413262Z",
     "iopub.status.idle": "2021-10-11T17:25:17.426122Z",
     "shell.execute_reply": "2021-10-11T17:25:17.425151Z",
     "shell.execute_reply.started": "2021-10-11T17:25:17.413469Z"
    }
   },
   "outputs": [
    {
     "data": {
      "text/html": [
       "<div>\n",
       "<style scoped>\n",
       "    .dataframe tbody tr th:only-of-type {\n",
       "        vertical-align: middle;\n",
       "    }\n",
       "\n",
       "    .dataframe tbody tr th {\n",
       "        vertical-align: top;\n",
       "    }\n",
       "\n",
       "    .dataframe thead th {\n",
       "        text-align: right;\n",
       "    }\n",
       "</style>\n",
       "<table border=\"1\" class=\"dataframe\">\n",
       "  <thead>\n",
       "    <tr style=\"text-align: right;\">\n",
       "      <th></th>\n",
       "      <th>image_id</th>\n",
       "      <th>PredictionString</th>\n",
       "    </tr>\n",
       "  </thead>\n",
       "  <tbody>\n",
       "    <tr>\n",
       "      <th>0</th>\n",
       "      <td>aac893a91</td>\n",
       "      <td>1.0 0 0 50 50</td>\n",
       "    </tr>\n",
       "    <tr>\n",
       "      <th>1</th>\n",
       "      <td>51f1be19e</td>\n",
       "      <td>1.0 0 0 50 50</td>\n",
       "    </tr>\n",
       "    <tr>\n",
       "      <th>2</th>\n",
       "      <td>f5a1f0358</td>\n",
       "      <td>1.0 0 0 50 50</td>\n",
       "    </tr>\n",
       "    <tr>\n",
       "      <th>3</th>\n",
       "      <td>796707dd7</td>\n",
       "      <td>1.0 0 0 50 50</td>\n",
       "    </tr>\n",
       "    <tr>\n",
       "      <th>4</th>\n",
       "      <td>51b3e36ab</td>\n",
       "      <td>1.0 0 0 50 50</td>\n",
       "    </tr>\n",
       "  </tbody>\n",
       "</table>\n",
       "</div>"
      ],
      "text/plain": [
       "    image_id PredictionString\n",
       "0  aac893a91    1.0 0 0 50 50\n",
       "1  51f1be19e    1.0 0 0 50 50\n",
       "2  f5a1f0358    1.0 0 0 50 50\n",
       "3  796707dd7    1.0 0 0 50 50\n",
       "4  51b3e36ab    1.0 0 0 50 50"
      ]
     },
     "execution_count": 92,
     "metadata": {},
     "output_type": "execute_result"
    }
   ],
   "source": [
    "sample_submission.head()"
   ]
  },
  {
   "cell_type": "code",
   "execution_count": 93,
   "metadata": {
    "execution": {
     "iopub.execute_input": "2021-10-11T17:25:17.427880Z",
     "iopub.status.busy": "2021-10-11T17:25:17.427608Z",
     "iopub.status.idle": "2021-10-11T17:25:17.461843Z",
     "shell.execute_reply": "2021-10-11T17:25:17.461047Z",
     "shell.execute_reply.started": "2021-10-11T17:25:17.427854Z"
    }
   },
   "outputs": [
    {
     "data": {
      "text/plain": [
       "array([[[236, 238, 141],\n",
       "        [234, 236, 139],\n",
       "        [233, 233, 137],\n",
       "        ...,\n",
       "        [ 72,  59,   6],\n",
       "        [ 71,  60,   6],\n",
       "        [ 90,  79,  25]],\n",
       "\n",
       "       [[239, 237, 150],\n",
       "        [238, 236, 149],\n",
       "        [237, 235, 148],\n",
       "        ...,\n",
       "        [ 75,  61,  12],\n",
       "        [ 68,  56,   6],\n",
       "        [ 73,  61,  11]]], dtype=uint8)"
      ]
     },
     "execution_count": 93,
     "metadata": {},
     "output_type": "execute_result"
    }
   ],
   "source": [
    "plt.imread(TRAIN_PATH + '00333207f.jpg')[0: 2]"
   ]
  },
  {
   "cell_type": "code",
   "execution_count": 94,
   "metadata": {},
   "outputs": [],
   "source": [
    "import tensorflow as tf\n",
    "from tensorflow import keras\n",
    "from tensorflow.keras import layers\n",
    "from tensorflow.keras.layers import Activation, Dropout\n",
    "from tensorflow.keras import Sequential\n",
    "from tensorflow.keras.layers import Dense\n",
    "from tensorflow.keras import activations"
   ]
  },
  {
   "cell_type": "code",
   "execution_count": 95,
   "metadata": {},
   "outputs": [],
   "source": [
    "model = Sequential([Dense(200, input_dim = 64),\n",
    "                   Activation(activations.relu),\n",
    "                   Dropout(0.2),\n",
    "                   Dense(4)])"
   ]
  },
  {
   "cell_type": "code",
   "execution_count": 96,
   "metadata": {
    "execution": {
     "iopub.execute_input": "2021-10-11T17:25:17.465206Z",
     "iopub.status.busy": "2021-10-11T17:25:17.464873Z",
     "iopub.status.idle": "2021-10-11T17:25:17.469541Z",
     "shell.execute_reply": "2021-10-11T17:25:17.468746Z",
     "shell.execute_reply.started": "2021-10-11T17:25:17.465175Z"
    }
   },
   "outputs": [],
   "source": [
    "from tqdm import tqdm"
   ]
  },
  {
   "cell_type": "code",
   "execution_count": 97,
   "metadata": {
    "execution": {
     "iopub.execute_input": "2021-10-11T17:25:17.471734Z",
     "iopub.status.busy": "2021-10-11T17:25:17.471348Z",
     "iopub.status.idle": "2021-10-11T17:25:17.480865Z",
     "shell.execute_reply": "2021-10-11T17:25:17.479948Z",
     "shell.execute_reply.started": "2021-10-11T17:25:17.471694Z"
    }
   },
   "outputs": [],
   "source": [
    "import cv2"
   ]
  },
  {
   "cell_type": "code",
   "execution_count": 98,
   "metadata": {
    "execution": {
     "iopub.execute_input": "2021-10-11T17:25:17.482539Z",
     "iopub.status.busy": "2021-10-11T17:25:17.482220Z",
     "iopub.status.idle": "2021-10-11T17:25:17.493084Z",
     "shell.execute_reply": "2021-10-11T17:25:17.492098Z",
     "shell.execute_reply.started": "2021-10-11T17:25:17.482507Z"
    }
   },
   "outputs": [],
   "source": [
    "from tensorflow.keras.applications import Xception\n",
    "import warnings\n",
    "warnings.filterwarnings(\"ignore\")"
   ]
  },
  {
   "cell_type": "code",
   "execution_count": 99,
   "metadata": {},
   "outputs": [
    {
     "data": {
      "text/plain": [
       "147793"
      ]
     },
     "execution_count": 99,
     "metadata": {},
     "output_type": "execute_result"
    }
   ],
   "source": [
    "len(df_train)"
   ]
  },
  {
   "cell_type": "code",
   "execution_count": 100,
   "metadata": {},
   "outputs": [],
   "source": [
    "df_train_sampled = df_train.sample(frac = 0.01)"
   ]
  },
  {
   "cell_type": "code",
   "execution_count": 101,
   "metadata": {},
   "outputs": [
    {
     "data": {
      "text/plain": [
       "1478"
      ]
     },
     "execution_count": 101,
     "metadata": {},
     "output_type": "execute_result"
    }
   ],
   "source": [
    "len(df_train_sampled)"
   ]
  },
  {
   "cell_type": "code",
   "execution_count": 102,
   "metadata": {},
   "outputs": [
    {
     "data": {
      "text/html": [
       "<div>\n",
       "<style scoped>\n",
       "    .dataframe tbody tr th:only-of-type {\n",
       "        vertical-align: middle;\n",
       "    }\n",
       "\n",
       "    .dataframe tbody tr th {\n",
       "        vertical-align: top;\n",
       "    }\n",
       "\n",
       "    .dataframe thead th {\n",
       "        text-align: right;\n",
       "    }\n",
       "</style>\n",
       "<table border=\"1\" class=\"dataframe\">\n",
       "  <thead>\n",
       "    <tr style=\"text-align: right;\">\n",
       "      <th></th>\n",
       "      <th>image_id</th>\n",
       "      <th>width</th>\n",
       "      <th>height</th>\n",
       "      <th>bbox</th>\n",
       "      <th>source</th>\n",
       "    </tr>\n",
       "  </thead>\n",
       "  <tbody>\n",
       "    <tr>\n",
       "      <th>42602</th>\n",
       "      <td>00333207f</td>\n",
       "      <td>1024</td>\n",
       "      <td>1024</td>\n",
       "      <td>[438, 436, 104, 51]</td>\n",
       "      <td>arvalis_1</td>\n",
       "    </tr>\n",
       "    <tr>\n",
       "      <th>15974</th>\n",
       "      <td>4cf58e2d1</td>\n",
       "      <td>1024</td>\n",
       "      <td>1024</td>\n",
       "      <td>[488.0, 153.0, 71.0, 89.0]</td>\n",
       "      <td>arvalis_1</td>\n",
       "    </tr>\n",
       "    <tr>\n",
       "      <th>30156</th>\n",
       "      <td>e025eb941</td>\n",
       "      <td>1024</td>\n",
       "      <td>1024</td>\n",
       "      <td>[870, 139, 73, 77]</td>\n",
       "      <td>arvalis_1</td>\n",
       "    </tr>\n",
       "    <tr>\n",
       "      <th>118879</th>\n",
       "      <td>564832c17</td>\n",
       "      <td>1024</td>\n",
       "      <td>1024</td>\n",
       "      <td>[898.0, 53.0, 69.0, 77.0]</td>\n",
       "      <td>arvalis_3</td>\n",
       "    </tr>\n",
       "    <tr>\n",
       "      <th>65459</th>\n",
       "      <td>2d72a5f04</td>\n",
       "      <td>1024</td>\n",
       "      <td>1024</td>\n",
       "      <td>[208.0, 191.0, 86.0, 112.0]</td>\n",
       "      <td>ethz_1</td>\n",
       "    </tr>\n",
       "  </tbody>\n",
       "</table>\n",
       "</div>"
      ],
      "text/plain": [
       "         image_id  width  height                         bbox     source\n",
       "42602   00333207f   1024    1024          [438, 436, 104, 51]  arvalis_1\n",
       "15974   4cf58e2d1   1024    1024   [488.0, 153.0, 71.0, 89.0]  arvalis_1\n",
       "30156   e025eb941   1024    1024           [870, 139, 73, 77]  arvalis_1\n",
       "118879  564832c17   1024    1024    [898.0, 53.0, 69.0, 77.0]  arvalis_3\n",
       "65459   2d72a5f04   1024    1024  [208.0, 191.0, 86.0, 112.0]     ethz_1"
      ]
     },
     "execution_count": 102,
     "metadata": {},
     "output_type": "execute_result"
    }
   ],
   "source": [
    "df_train_sampled.head()"
   ]
  },
  {
   "cell_type": "code",
   "execution_count": 103,
   "metadata": {
    "execution": {
     "iopub.execute_input": "2021-10-11T17:25:17.548265Z",
     "iopub.status.busy": "2021-10-11T17:25:17.547947Z",
     "iopub.status.idle": "2021-10-11T17:25:32.423361Z",
     "shell.execute_reply": "2021-10-11T17:25:32.422544Z",
     "shell.execute_reply.started": "2021-10-11T17:25:17.548223Z"
    }
   },
   "outputs": [
    {
     "name": "stderr",
     "output_type": "stream",
     "text": [
      "100%|██████████████████████████████████████████████████████████████████████████████| 1478/1478 [00:19<00:00, 77.66it/s]\n"
     ]
    }
   ],
   "source": [
    "images = []\n",
    "classID = []\n",
    "for image_id, class_name  in tqdm(df_train_sampled[['image_id', 'source']].values):\n",
    "    img = cv2.imread(TRAIN_PATH + '/{}.jpg'.format(image_id), cv2.IMREAD_COLOR)\n",
    "    if type(image_id) == None:\n",
    "        continue\n",
    "    else:\n",
    "        images.append(img)\n",
    "        classID.append(class_name)"
   ]
  },
  {
   "cell_type": "code",
   "execution_count": 104,
   "metadata": {
    "execution": {
     "iopub.execute_input": "2021-10-11T17:25:32.424651Z",
     "iopub.status.busy": "2021-10-11T17:25:32.424435Z",
     "iopub.status.idle": "2021-10-11T17:25:32.429928Z",
     "shell.execute_reply": "2021-10-11T17:25:32.429322Z",
     "shell.execute_reply.started": "2021-10-11T17:25:32.424626Z"
    }
   },
   "outputs": [
    {
     "data": {
      "text/plain": [
       "array([[[144, 237, 236],\n",
       "        [142, 235, 234],\n",
       "        [140, 232, 233],\n",
       "        ...,\n",
       "        [  7,  59,  72],\n",
       "        [  7,  59,  72],\n",
       "        [ 26,  78,  90]],\n",
       "\n",
       "       [[150, 238, 238],\n",
       "        [149, 237, 237],\n",
       "        [148, 235, 237],\n",
       "        ...,\n",
       "        [ 12,  61,  77],\n",
       "        [  6,  55,  69],\n",
       "        [ 13,  61,  73]],\n",
       "\n",
       "       [[159, 236, 239],\n",
       "        [159, 236, 239],\n",
       "        [160, 237, 240],\n",
       "        ...,\n",
       "        [ 20,  66,  83],\n",
       "        [ 13,  56,  71],\n",
       "        [  4,  45,  60]],\n",
       "\n",
       "       ...,\n",
       "\n",
       "       [[135, 202, 235],\n",
       "        [140, 207, 238],\n",
       "        [147, 213, 242],\n",
       "        ...,\n",
       "        [ 46, 125, 146],\n",
       "        [ 76, 152, 174],\n",
       "        [105, 181, 200]],\n",
       "\n",
       "       [[135, 204, 237],\n",
       "        [139, 209, 239],\n",
       "        [146, 214, 243],\n",
       "        ...,\n",
       "        [ 38, 117, 138],\n",
       "        [ 46, 122, 144],\n",
       "        [ 51, 127, 149]],\n",
       "\n",
       "       [[138, 207, 240],\n",
       "        [139, 209, 239],\n",
       "        [144, 212, 241],\n",
       "        ...,\n",
       "        [ 22, 100, 123],\n",
       "        [ 28, 104, 126],\n",
       "        [ 37, 113, 135]]], dtype=uint8)"
      ]
     },
     "execution_count": 104,
     "metadata": {},
     "output_type": "execute_result"
    }
   ],
   "source": [
    "images[0]"
   ]
  },
  {
   "cell_type": "code",
   "execution_count": 105,
   "metadata": {},
   "outputs": [],
   "source": [
    "df_train_sampled['images array'] = images"
   ]
  },
  {
   "cell_type": "code",
   "execution_count": 106,
   "metadata": {},
   "outputs": [
    {
     "data": {
      "text/html": [
       "<div>\n",
       "<style scoped>\n",
       "    .dataframe tbody tr th:only-of-type {\n",
       "        vertical-align: middle;\n",
       "    }\n",
       "\n",
       "    .dataframe tbody tr th {\n",
       "        vertical-align: top;\n",
       "    }\n",
       "\n",
       "    .dataframe thead th {\n",
       "        text-align: right;\n",
       "    }\n",
       "</style>\n",
       "<table border=\"1\" class=\"dataframe\">\n",
       "  <thead>\n",
       "    <tr style=\"text-align: right;\">\n",
       "      <th></th>\n",
       "      <th>image_id</th>\n",
       "      <th>width</th>\n",
       "      <th>height</th>\n",
       "      <th>bbox</th>\n",
       "      <th>source</th>\n",
       "      <th>images array</th>\n",
       "    </tr>\n",
       "  </thead>\n",
       "  <tbody>\n",
       "    <tr>\n",
       "      <th>42602</th>\n",
       "      <td>00333207f</td>\n",
       "      <td>1024</td>\n",
       "      <td>1024</td>\n",
       "      <td>[438, 436, 104, 51]</td>\n",
       "      <td>arvalis_1</td>\n",
       "      <td>[[[144, 237, 236], [142, 235, 234], [140, 232,...</td>\n",
       "    </tr>\n",
       "    <tr>\n",
       "      <th>15974</th>\n",
       "      <td>4cf58e2d1</td>\n",
       "      <td>1024</td>\n",
       "      <td>1024</td>\n",
       "      <td>[488.0, 153.0, 71.0, 89.0]</td>\n",
       "      <td>arvalis_1</td>\n",
       "      <td>[[[0, 48, 68], [0, 46, 66], [11, 64, 84], [0, ...</td>\n",
       "    </tr>\n",
       "    <tr>\n",
       "      <th>30156</th>\n",
       "      <td>e025eb941</td>\n",
       "      <td>1024</td>\n",
       "      <td>1024</td>\n",
       "      <td>[870, 139, 73, 77]</td>\n",
       "      <td>arvalis_1</td>\n",
       "      <td>[[[17, 81, 59], [24, 86, 64], [0, 53, 30], [4,...</td>\n",
       "    </tr>\n",
       "    <tr>\n",
       "      <th>118879</th>\n",
       "      <td>564832c17</td>\n",
       "      <td>1024</td>\n",
       "      <td>1024</td>\n",
       "      <td>[898.0, 53.0, 69.0, 77.0]</td>\n",
       "      <td>arvalis_3</td>\n",
       "      <td>[[[4, 21, 18], [6, 23, 20], [8, 24, 23], [10, ...</td>\n",
       "    </tr>\n",
       "    <tr>\n",
       "      <th>65459</th>\n",
       "      <td>2d72a5f04</td>\n",
       "      <td>1024</td>\n",
       "      <td>1024</td>\n",
       "      <td>[208.0, 191.0, 86.0, 112.0]</td>\n",
       "      <td>ethz_1</td>\n",
       "      <td>[[[53, 60, 53], [57, 64, 57], [61, 68, 61], [6...</td>\n",
       "    </tr>\n",
       "  </tbody>\n",
       "</table>\n",
       "</div>"
      ],
      "text/plain": [
       "         image_id  width  height                         bbox     source  \\\n",
       "42602   00333207f   1024    1024          [438, 436, 104, 51]  arvalis_1   \n",
       "15974   4cf58e2d1   1024    1024   [488.0, 153.0, 71.0, 89.0]  arvalis_1   \n",
       "30156   e025eb941   1024    1024           [870, 139, 73, 77]  arvalis_1   \n",
       "118879  564832c17   1024    1024    [898.0, 53.0, 69.0, 77.0]  arvalis_3   \n",
       "65459   2d72a5f04   1024    1024  [208.0, 191.0, 86.0, 112.0]     ethz_1   \n",
       "\n",
       "                                             images array  \n",
       "42602   [[[144, 237, 236], [142, 235, 234], [140, 232,...  \n",
       "15974   [[[0, 48, 68], [0, 46, 66], [11, 64, 84], [0, ...  \n",
       "30156   [[[17, 81, 59], [24, 86, 64], [0, 53, 30], [4,...  \n",
       "118879  [[[4, 21, 18], [6, 23, 20], [8, 24, 23], [10, ...  \n",
       "65459   [[[53, 60, 53], [57, 64, 57], [61, 68, 61], [6...  "
      ]
     },
     "execution_count": 106,
     "metadata": {},
     "output_type": "execute_result"
    }
   ],
   "source": [
    "df_train_sampled.head()"
   ]
  },
  {
   "cell_type": "code",
   "execution_count": 107,
   "metadata": {},
   "outputs": [],
   "source": [
    "df_train_sampled.drop(['image_id'], axis = 1, inplace = True)"
   ]
  },
  {
   "cell_type": "code",
   "execution_count": 108,
   "metadata": {},
   "outputs": [
    {
     "data": {
      "text/html": [
       "<div>\n",
       "<style scoped>\n",
       "    .dataframe tbody tr th:only-of-type {\n",
       "        vertical-align: middle;\n",
       "    }\n",
       "\n",
       "    .dataframe tbody tr th {\n",
       "        vertical-align: top;\n",
       "    }\n",
       "\n",
       "    .dataframe thead th {\n",
       "        text-align: right;\n",
       "    }\n",
       "</style>\n",
       "<table border=\"1\" class=\"dataframe\">\n",
       "  <thead>\n",
       "    <tr style=\"text-align: right;\">\n",
       "      <th></th>\n",
       "      <th>width</th>\n",
       "      <th>height</th>\n",
       "      <th>bbox</th>\n",
       "      <th>source</th>\n",
       "      <th>images array</th>\n",
       "    </tr>\n",
       "  </thead>\n",
       "  <tbody>\n",
       "    <tr>\n",
       "      <th>42602</th>\n",
       "      <td>1024</td>\n",
       "      <td>1024</td>\n",
       "      <td>[438, 436, 104, 51]</td>\n",
       "      <td>arvalis_1</td>\n",
       "      <td>[[[144, 237, 236], [142, 235, 234], [140, 232,...</td>\n",
       "    </tr>\n",
       "    <tr>\n",
       "      <th>15974</th>\n",
       "      <td>1024</td>\n",
       "      <td>1024</td>\n",
       "      <td>[488.0, 153.0, 71.0, 89.0]</td>\n",
       "      <td>arvalis_1</td>\n",
       "      <td>[[[0, 48, 68], [0, 46, 66], [11, 64, 84], [0, ...</td>\n",
       "    </tr>\n",
       "    <tr>\n",
       "      <th>30156</th>\n",
       "      <td>1024</td>\n",
       "      <td>1024</td>\n",
       "      <td>[870, 139, 73, 77]</td>\n",
       "      <td>arvalis_1</td>\n",
       "      <td>[[[17, 81, 59], [24, 86, 64], [0, 53, 30], [4,...</td>\n",
       "    </tr>\n",
       "    <tr>\n",
       "      <th>118879</th>\n",
       "      <td>1024</td>\n",
       "      <td>1024</td>\n",
       "      <td>[898.0, 53.0, 69.0, 77.0]</td>\n",
       "      <td>arvalis_3</td>\n",
       "      <td>[[[4, 21, 18], [6, 23, 20], [8, 24, 23], [10, ...</td>\n",
       "    </tr>\n",
       "    <tr>\n",
       "      <th>65459</th>\n",
       "      <td>1024</td>\n",
       "      <td>1024</td>\n",
       "      <td>[208.0, 191.0, 86.0, 112.0]</td>\n",
       "      <td>ethz_1</td>\n",
       "      <td>[[[53, 60, 53], [57, 64, 57], [61, 68, 61], [6...</td>\n",
       "    </tr>\n",
       "  </tbody>\n",
       "</table>\n",
       "</div>"
      ],
      "text/plain": [
       "        width  height                         bbox     source  \\\n",
       "42602    1024    1024          [438, 436, 104, 51]  arvalis_1   \n",
       "15974    1024    1024   [488.0, 153.0, 71.0, 89.0]  arvalis_1   \n",
       "30156    1024    1024           [870, 139, 73, 77]  arvalis_1   \n",
       "118879   1024    1024    [898.0, 53.0, 69.0, 77.0]  arvalis_3   \n",
       "65459    1024    1024  [208.0, 191.0, 86.0, 112.0]     ethz_1   \n",
       "\n",
       "                                             images array  \n",
       "42602   [[[144, 237, 236], [142, 235, 234], [140, 232,...  \n",
       "15974   [[[0, 48, 68], [0, 46, 66], [11, 64, 84], [0, ...  \n",
       "30156   [[[17, 81, 59], [24, 86, 64], [0, 53, 30], [4,...  \n",
       "118879  [[[4, 21, 18], [6, 23, 20], [8, 24, 23], [10, ...  \n",
       "65459   [[[53, 60, 53], [57, 64, 57], [61, 68, 61], [6...  "
      ]
     },
     "execution_count": 108,
     "metadata": {},
     "output_type": "execute_result"
    }
   ],
   "source": [
    "df_train_sampled.head()"
   ]
  },
  {
   "cell_type": "code",
   "execution_count": 109,
   "metadata": {},
   "outputs": [],
   "source": [
    "df_train_sampled.drop(['width', 'height', 'bbox'], axis = 1, inplace = True)"
   ]
  },
  {
   "cell_type": "code",
   "execution_count": 110,
   "metadata": {},
   "outputs": [
    {
     "data": {
      "text/html": [
       "<div>\n",
       "<style scoped>\n",
       "    .dataframe tbody tr th:only-of-type {\n",
       "        vertical-align: middle;\n",
       "    }\n",
       "\n",
       "    .dataframe tbody tr th {\n",
       "        vertical-align: top;\n",
       "    }\n",
       "\n",
       "    .dataframe thead th {\n",
       "        text-align: right;\n",
       "    }\n",
       "</style>\n",
       "<table border=\"1\" class=\"dataframe\">\n",
       "  <thead>\n",
       "    <tr style=\"text-align: right;\">\n",
       "      <th></th>\n",
       "      <th>source</th>\n",
       "      <th>images array</th>\n",
       "    </tr>\n",
       "  </thead>\n",
       "  <tbody>\n",
       "    <tr>\n",
       "      <th>42602</th>\n",
       "      <td>arvalis_1</td>\n",
       "      <td>[[[144, 237, 236], [142, 235, 234], [140, 232,...</td>\n",
       "    </tr>\n",
       "    <tr>\n",
       "      <th>15974</th>\n",
       "      <td>arvalis_1</td>\n",
       "      <td>[[[0, 48, 68], [0, 46, 66], [11, 64, 84], [0, ...</td>\n",
       "    </tr>\n",
       "    <tr>\n",
       "      <th>30156</th>\n",
       "      <td>arvalis_1</td>\n",
       "      <td>[[[17, 81, 59], [24, 86, 64], [0, 53, 30], [4,...</td>\n",
       "    </tr>\n",
       "    <tr>\n",
       "      <th>118879</th>\n",
       "      <td>arvalis_3</td>\n",
       "      <td>[[[4, 21, 18], [6, 23, 20], [8, 24, 23], [10, ...</td>\n",
       "    </tr>\n",
       "    <tr>\n",
       "      <th>65459</th>\n",
       "      <td>ethz_1</td>\n",
       "      <td>[[[53, 60, 53], [57, 64, 57], [61, 68, 61], [6...</td>\n",
       "    </tr>\n",
       "  </tbody>\n",
       "</table>\n",
       "</div>"
      ],
      "text/plain": [
       "           source                                       images array\n",
       "42602   arvalis_1  [[[144, 237, 236], [142, 235, 234], [140, 232,...\n",
       "15974   arvalis_1  [[[0, 48, 68], [0, 46, 66], [11, 64, 84], [0, ...\n",
       "30156   arvalis_1  [[[17, 81, 59], [24, 86, 64], [0, 53, 30], [4,...\n",
       "118879  arvalis_3  [[[4, 21, 18], [6, 23, 20], [8, 24, 23], [10, ...\n",
       "65459      ethz_1  [[[53, 60, 53], [57, 64, 57], [61, 68, 61], [6..."
      ]
     },
     "execution_count": 110,
     "metadata": {},
     "output_type": "execute_result"
    }
   ],
   "source": [
    "df_train_sampled.head()"
   ]
  },
  {
   "cell_type": "code",
   "execution_count": 111,
   "metadata": {
    "execution": {
     "iopub.execute_input": "2021-10-11T17:25:32.430904Z",
     "iopub.status.busy": "2021-10-11T17:25:32.430688Z",
     "iopub.status.idle": "2021-10-11T17:25:32.440170Z",
     "shell.execute_reply": "2021-10-11T17:25:32.439559Z",
     "shell.execute_reply.started": "2021-10-11T17:25:32.430871Z"
    }
   },
   "outputs": [],
   "source": [
    "from sklearn.preprocessing import LabelEncoder"
   ]
  },
  {
   "cell_type": "code",
   "execution_count": 112,
   "metadata": {
    "execution": {
     "iopub.execute_input": "2021-10-11T17:25:32.459149Z",
     "iopub.status.busy": "2021-10-11T17:25:32.458856Z",
     "iopub.status.idle": "2021-10-11T17:25:32.467824Z",
     "shell.execute_reply": "2021-10-11T17:25:32.467088Z",
     "shell.execute_reply.started": "2021-10-11T17:25:32.459113Z"
    }
   },
   "outputs": [],
   "source": [
    "encoder = LabelEncoder()\n",
    "y = df_train_sampled['source']\n",
    "y_converted = encoder.fit_transform(y)"
   ]
  },
  {
   "cell_type": "code",
   "execution_count": 140,
   "metadata": {},
   "outputs": [
    {
     "data": {
      "text/plain": [
       "1478"
      ]
     },
     "execution_count": 140,
     "metadata": {},
     "output_type": "execute_result"
    }
   ],
   "source": [
    "len(y_converted)"
   ]
  },
  {
   "cell_type": "code",
   "execution_count": 142,
   "metadata": {},
   "outputs": [
    {
     "data": {
      "text/html": [
       "<div>\n",
       "<style scoped>\n",
       "    .dataframe tbody tr th:only-of-type {\n",
       "        vertical-align: middle;\n",
       "    }\n",
       "\n",
       "    .dataframe tbody tr th {\n",
       "        vertical-align: top;\n",
       "    }\n",
       "\n",
       "    .dataframe thead th {\n",
       "        text-align: right;\n",
       "    }\n",
       "</style>\n",
       "<table border=\"1\" class=\"dataframe\">\n",
       "  <thead>\n",
       "    <tr style=\"text-align: right;\">\n",
       "      <th></th>\n",
       "      <th>source</th>\n",
       "      <th>images array</th>\n",
       "    </tr>\n",
       "  </thead>\n",
       "  <tbody>\n",
       "    <tr>\n",
       "      <th>42602</th>\n",
       "      <td>arvalis_1</td>\n",
       "      <td>[[[144, 237, 236], [142, 235, 234], [140, 232,...</td>\n",
       "    </tr>\n",
       "    <tr>\n",
       "      <th>15974</th>\n",
       "      <td>arvalis_1</td>\n",
       "      <td>[[[0, 48, 68], [0, 46, 66], [11, 64, 84], [0, ...</td>\n",
       "    </tr>\n",
       "    <tr>\n",
       "      <th>30156</th>\n",
       "      <td>arvalis_1</td>\n",
       "      <td>[[[17, 81, 59], [24, 86, 64], [0, 53, 30], [4,...</td>\n",
       "    </tr>\n",
       "    <tr>\n",
       "      <th>118879</th>\n",
       "      <td>arvalis_3</td>\n",
       "      <td>[[[4, 21, 18], [6, 23, 20], [8, 24, 23], [10, ...</td>\n",
       "    </tr>\n",
       "    <tr>\n",
       "      <th>65459</th>\n",
       "      <td>ethz_1</td>\n",
       "      <td>[[[53, 60, 53], [57, 64, 57], [61, 68, 61], [6...</td>\n",
       "    </tr>\n",
       "  </tbody>\n",
       "</table>\n",
       "</div>"
      ],
      "text/plain": [
       "           source                                       images array\n",
       "42602   arvalis_1  [[[144, 237, 236], [142, 235, 234], [140, 232,...\n",
       "15974   arvalis_1  [[[0, 48, 68], [0, 46, 66], [11, 64, 84], [0, ...\n",
       "30156   arvalis_1  [[[17, 81, 59], [24, 86, 64], [0, 53, 30], [4,...\n",
       "118879  arvalis_3  [[[4, 21, 18], [6, 23, 20], [8, 24, 23], [10, ...\n",
       "65459      ethz_1  [[[53, 60, 53], [57, 64, 57], [61, 68, 61], [6..."
      ]
     },
     "execution_count": 142,
     "metadata": {},
     "output_type": "execute_result"
    }
   ],
   "source": [
    "df_train_sampled.head()"
   ]
  },
  {
   "cell_type": "code",
   "execution_count": 146,
   "metadata": {},
   "outputs": [
    {
     "data": {
      "text/plain": [
       "array([[[144, 237, 236],\n",
       "        [142, 235, 234],\n",
       "        [140, 232, 233],\n",
       "        ...,\n",
       "        [  7,  59,  72],\n",
       "        [  7,  59,  72],\n",
       "        [ 26,  78,  90]],\n",
       "\n",
       "       [[150, 238, 238],\n",
       "        [149, 237, 237],\n",
       "        [148, 235, 237],\n",
       "        ...,\n",
       "        [ 12,  61,  77],\n",
       "        [  6,  55,  69],\n",
       "        [ 13,  61,  73]],\n",
       "\n",
       "       [[159, 236, 239],\n",
       "        [159, 236, 239],\n",
       "        [160, 237, 240],\n",
       "        ...,\n",
       "        [ 20,  66,  83],\n",
       "        [ 13,  56,  71],\n",
       "        [  4,  45,  60]],\n",
       "\n",
       "       ...,\n",
       "\n",
       "       [[135, 202, 235],\n",
       "        [140, 207, 238],\n",
       "        [147, 213, 242],\n",
       "        ...,\n",
       "        [ 46, 125, 146],\n",
       "        [ 76, 152, 174],\n",
       "        [105, 181, 200]],\n",
       "\n",
       "       [[135, 204, 237],\n",
       "        [139, 209, 239],\n",
       "        [146, 214, 243],\n",
       "        ...,\n",
       "        [ 38, 117, 138],\n",
       "        [ 46, 122, 144],\n",
       "        [ 51, 127, 149]],\n",
       "\n",
       "       [[138, 207, 240],\n",
       "        [139, 209, 239],\n",
       "        [144, 212, 241],\n",
       "        ...,\n",
       "        [ 22, 100, 123],\n",
       "        [ 28, 104, 126],\n",
       "        [ 37, 113, 135]]], dtype=uint8)"
      ]
     },
     "execution_count": 146,
     "metadata": {},
     "output_type": "execute_result"
    }
   ],
   "source": [
    "df_train_sampled['images array'].iloc[0]"
   ]
  },
  {
   "cell_type": "code",
   "execution_count": 147,
   "metadata": {
    "execution": {
     "iopub.execute_input": "2021-10-11T17:25:32.485916Z",
     "iopub.status.busy": "2021-10-11T17:25:32.485391Z",
     "iopub.status.idle": "2021-10-11T17:25:32.492949Z",
     "shell.execute_reply": "2021-10-11T17:25:32.491915Z",
     "shell.execute_reply.started": "2021-10-11T17:25:32.485872Z"
    }
   },
   "outputs": [],
   "source": [
    "from tensorflow.keras.utils import to_categorical"
   ]
  },
  {
   "cell_type": "code",
   "execution_count": 148,
   "metadata": {
    "execution": {
     "iopub.execute_input": "2021-10-11T17:25:32.494245Z",
     "iopub.status.busy": "2021-10-11T17:25:32.494027Z",
     "iopub.status.idle": "2021-10-11T17:25:32.503586Z",
     "shell.execute_reply": "2021-10-11T17:25:32.502864Z",
     "shell.execute_reply.started": "2021-10-11T17:25:32.494220Z"
    }
   },
   "outputs": [],
   "source": [
    "from sklearn.model_selection import train_test_split"
   ]
  },
  {
   "cell_type": "code",
   "execution_count": 149,
   "metadata": {
    "execution": {
     "iopub.execute_input": "2021-10-11T17:26:38.826487Z",
     "iopub.status.busy": "2021-10-11T17:26:38.825875Z",
     "iopub.status.idle": "2021-10-11T17:26:38.830629Z",
     "shell.execute_reply": "2021-10-11T17:26:38.829882Z",
     "shell.execute_reply.started": "2021-10-11T17:26:38.826443Z"
    }
   },
   "outputs": [],
   "source": [
    "y_categorical = to_categorical(y_converted)"
   ]
  },
  {
   "cell_type": "code",
   "execution_count": 150,
   "metadata": {},
   "outputs": [
    {
     "data": {
      "text/plain": [
       "array([[1., 0., 0., ..., 0., 0., 0.],\n",
       "       [1., 0., 0., ..., 0., 0., 0.],\n",
       "       [1., 0., 0., ..., 0., 0., 0.],\n",
       "       ...,\n",
       "       [0., 0., 0., ..., 0., 0., 0.],\n",
       "       [0., 0., 0., ..., 0., 1., 0.],\n",
       "       [0., 1., 0., ..., 0., 0., 0.]], dtype=float32)"
      ]
     },
     "execution_count": 150,
     "metadata": {},
     "output_type": "execute_result"
    }
   ],
   "source": [
    "y_categorical"
   ]
  },
  {
   "cell_type": "code",
   "execution_count": 118,
   "metadata": {},
   "outputs": [
    {
     "data": {
      "text/plain": [
       "1478"
      ]
     },
     "execution_count": 118,
     "metadata": {},
     "output_type": "execute_result"
    }
   ],
   "source": [
    "len(y_categorical)"
   ]
  },
  {
   "cell_type": "code",
   "execution_count": 151,
   "metadata": {
    "execution": {
     "iopub.execute_input": "2021-10-11T17:26:35.771402Z",
     "iopub.status.busy": "2021-10-11T17:26:35.771139Z",
     "iopub.status.idle": "2021-10-11T17:26:35.777456Z",
     "shell.execute_reply": "2021-10-11T17:26:35.776598Z",
     "shell.execute_reply.started": "2021-10-11T17:26:35.771376Z"
    }
   },
   "outputs": [],
   "source": [
    "X = df_train_sampled.drop(['source'], axis = 1)"
   ]
  },
  {
   "cell_type": "code",
   "execution_count": 152,
   "metadata": {},
   "outputs": [
    {
     "data": {
      "text/html": [
       "<div>\n",
       "<style scoped>\n",
       "    .dataframe tbody tr th:only-of-type {\n",
       "        vertical-align: middle;\n",
       "    }\n",
       "\n",
       "    .dataframe tbody tr th {\n",
       "        vertical-align: top;\n",
       "    }\n",
       "\n",
       "    .dataframe thead th {\n",
       "        text-align: right;\n",
       "    }\n",
       "</style>\n",
       "<table border=\"1\" class=\"dataframe\">\n",
       "  <thead>\n",
       "    <tr style=\"text-align: right;\">\n",
       "      <th></th>\n",
       "      <th>images array</th>\n",
       "    </tr>\n",
       "  </thead>\n",
       "  <tbody>\n",
       "    <tr>\n",
       "      <th>42602</th>\n",
       "      <td>[[[144, 237, 236], [142, 235, 234], [140, 232,...</td>\n",
       "    </tr>\n",
       "    <tr>\n",
       "      <th>15974</th>\n",
       "      <td>[[[0, 48, 68], [0, 46, 66], [11, 64, 84], [0, ...</td>\n",
       "    </tr>\n",
       "  </tbody>\n",
       "</table>\n",
       "</div>"
      ],
      "text/plain": [
       "                                            images array\n",
       "42602  [[[144, 237, 236], [142, 235, 234], [140, 232,...\n",
       "15974  [[[0, 48, 68], [0, 46, 66], [11, 64, 84], [0, ..."
      ]
     },
     "execution_count": 152,
     "metadata": {},
     "output_type": "execute_result"
    }
   ],
   "source": [
    "X[0: 2]"
   ]
  },
  {
   "cell_type": "code",
   "execution_count": 168,
   "metadata": {
    "execution": {
     "iopub.execute_input": "2021-10-11T17:25:32.532871Z",
     "iopub.status.busy": "2021-10-11T17:25:32.532558Z",
     "iopub.status.idle": "2021-10-11T17:25:32.539883Z",
     "shell.execute_reply": "2021-10-11T17:25:32.539030Z",
     "shell.execute_reply.started": "2021-10-11T17:25:32.532837Z"
    }
   },
   "outputs": [],
   "source": [
    "from tensorflow.keras.layers import Dense, Dropout\n",
    "from tensorflow.keras.models import Sequential"
   ]
  },
  {
   "cell_type": "code",
   "execution_count": 169,
   "metadata": {},
   "outputs": [
    {
     "data": {
      "text/plain": [
       "(1034, 1)"
      ]
     },
     "execution_count": 169,
     "metadata": {},
     "output_type": "execute_result"
    }
   ],
   "source": [
    "X_train.shape"
   ]
  },
  {
   "cell_type": "code",
   "execution_count": null,
   "metadata": {},
   "outputs": [],
   "source": []
  },
  {
   "cell_type": "code",
   "execution_count": 154,
   "metadata": {
    "execution": {
     "iopub.execute_input": "2021-10-11T17:25:32.541535Z",
     "iopub.status.busy": "2021-10-11T17:25:32.541295Z",
     "iopub.status.idle": "2021-10-11T17:25:32.567714Z",
     "shell.execute_reply": "2021-10-11T17:25:32.566896Z",
     "shell.execute_reply.started": "2021-10-11T17:25:32.541501Z"
    }
   },
   "outputs": [],
   "source": [
    "model = Sequential()\n",
    "model.add(Dense(50, activation = 'relu', input_shape = (1034,)))\n",
    "model.add(Dense(25, activation = 'relu'))\n",
    "model.add(Dense(10, activation = 'relu'))\n",
    "model.add(Dense(4, activation = 'softmax'))\n",
    "model.compile(optimizer = 'adam', loss = 'mean_squared_error')"
   ]
  },
  {
   "cell_type": "code",
   "execution_count": 155,
   "metadata": {
    "execution": {
     "iopub.execute_input": "2021-10-11T17:25:32.569654Z",
     "iopub.status.busy": "2021-10-11T17:25:32.569348Z",
     "iopub.status.idle": "2021-10-11T17:25:32.575828Z",
     "shell.execute_reply": "2021-10-11T17:25:32.574906Z",
     "shell.execute_reply.started": "2021-10-11T17:25:32.569613Z"
    }
   },
   "outputs": [],
   "source": [
    "X_train, X_cv, y_train, y_cv = train_test_split(X, y_categorical, random_state = 50, test_size = 0.3)"
   ]
  },
  {
   "cell_type": "code",
   "execution_count": 156,
   "metadata": {},
   "outputs": [],
   "source": [
    "import numpy as np"
   ]
  },
  {
   "cell_type": "code",
   "execution_count": 158,
   "metadata": {},
   "outputs": [
    {
     "data": {
      "text/plain": [
       "1478"
      ]
     },
     "execution_count": 158,
     "metadata": {},
     "output_type": "execute_result"
    }
   ],
   "source": [
    "len(y_categorical)"
   ]
  },
  {
   "cell_type": "code",
   "execution_count": 159,
   "metadata": {},
   "outputs": [
    {
     "data": {
      "text/plain": [
       "1034"
      ]
     },
     "execution_count": 159,
     "metadata": {},
     "output_type": "execute_result"
    }
   ],
   "source": [
    "len(X_train)"
   ]
  },
  {
   "cell_type": "code",
   "execution_count": 160,
   "metadata": {},
   "outputs": [
    {
     "data": {
      "text/plain": [
       "444"
      ]
     },
     "execution_count": 160,
     "metadata": {},
     "output_type": "execute_result"
    }
   ],
   "source": [
    "len(X_cv)"
   ]
  },
  {
   "cell_type": "code",
   "execution_count": 161,
   "metadata": {},
   "outputs": [
    {
     "data": {
      "text/plain": [
       "444"
      ]
     },
     "execution_count": 161,
     "metadata": {},
     "output_type": "execute_result"
    }
   ],
   "source": [
    "len(y_cv)"
   ]
  },
  {
   "cell_type": "code",
   "execution_count": 59,
   "metadata": {},
   "outputs": [
    {
     "data": {
      "text/plain": [
       "1034"
      ]
     },
     "execution_count": 59,
     "metadata": {},
     "output_type": "execute_result"
    }
   ],
   "source": [
    "len(X_train)"
   ]
  },
  {
   "cell_type": "code",
   "execution_count": 60,
   "metadata": {
    "scrolled": true
   },
   "outputs": [
    {
     "data": {
      "text/plain": [
       "444"
      ]
     },
     "execution_count": 60,
     "metadata": {},
     "output_type": "execute_result"
    }
   ],
   "source": [
    "len(X_cv)"
   ]
  },
  {
   "cell_type": "code",
   "execution_count": 61,
   "metadata": {},
   "outputs": [
    {
     "data": {
      "text/plain": [
       "1034"
      ]
     },
     "execution_count": 61,
     "metadata": {},
     "output_type": "execute_result"
    }
   ],
   "source": [
    "len(y_train)"
   ]
  },
  {
   "cell_type": "code",
   "execution_count": 163,
   "metadata": {},
   "outputs": [
    {
     "data": {
      "text/html": [
       "<div>\n",
       "<style scoped>\n",
       "    .dataframe tbody tr th:only-of-type {\n",
       "        vertical-align: middle;\n",
       "    }\n",
       "\n",
       "    .dataframe tbody tr th {\n",
       "        vertical-align: top;\n",
       "    }\n",
       "\n",
       "    .dataframe thead th {\n",
       "        text-align: right;\n",
       "    }\n",
       "</style>\n",
       "<table border=\"1\" class=\"dataframe\">\n",
       "  <thead>\n",
       "    <tr style=\"text-align: right;\">\n",
       "      <th></th>\n",
       "      <th>images array</th>\n",
       "    </tr>\n",
       "  </thead>\n",
       "  <tbody>\n",
       "    <tr>\n",
       "      <th>132133</th>\n",
       "      <td>[[[12, 26, 14], [15, 29, 17], [19, 33, 22], [2...</td>\n",
       "    </tr>\n",
       "    <tr>\n",
       "      <th>116828</th>\n",
       "      <td>[[[72, 134, 142], [72, 134, 142], [70, 133, 14...</td>\n",
       "    </tr>\n",
       "    <tr>\n",
       "      <th>106849</th>\n",
       "      <td>[[[2, 6, 1], [3, 7, 2], [3, 7, 2], [3, 7, 2], ...</td>\n",
       "    </tr>\n",
       "  </tbody>\n",
       "</table>\n",
       "</div>"
      ],
      "text/plain": [
       "                                             images array\n",
       "132133  [[[12, 26, 14], [15, 29, 17], [19, 33, 22], [2...\n",
       "116828  [[[72, 134, 142], [72, 134, 142], [70, 133, 14...\n",
       "106849  [[[2, 6, 1], [3, 7, 2], [3, 7, 2], [3, 7, 2], ..."
      ]
     },
     "execution_count": 163,
     "metadata": {},
     "output_type": "execute_result"
    }
   ],
   "source": [
    "X_train[0: 3]"
   ]
  },
  {
   "cell_type": "code",
   "execution_count": 164,
   "metadata": {},
   "outputs": [
    {
     "data": {
      "text/plain": [
       "444"
      ]
     },
     "execution_count": 164,
     "metadata": {},
     "output_type": "execute_result"
    }
   ],
   "source": [
    "len(y_cv)"
   ]
  },
  {
   "cell_type": "code",
   "execution_count": 165,
   "metadata": {},
   "outputs": [
    {
     "data": {
      "text/plain": [
       "444"
      ]
     },
     "execution_count": 165,
     "metadata": {},
     "output_type": "execute_result"
    }
   ],
   "source": [
    "len(X_cv)"
   ]
  },
  {
   "cell_type": "code",
   "execution_count": 166,
   "metadata": {},
   "outputs": [
    {
     "data": {
      "text/plain": [
       "(1034, 1)"
      ]
     },
     "execution_count": 166,
     "metadata": {},
     "output_type": "execute_result"
    }
   ],
   "source": [
    "X_train.shape"
   ]
  },
  {
   "cell_type": "code",
   "execution_count": 167,
   "metadata": {
    "execution": {
     "iopub.execute_input": "2021-10-11T17:26:14.904669Z",
     "iopub.status.busy": "2021-10-11T17:26:14.904127Z",
     "iopub.status.idle": "2021-10-11T17:26:14.964520Z",
     "shell.execute_reply": "2021-10-11T17:26:14.962962Z",
     "shell.execute_reply.started": "2021-10-11T17:26:14.904611Z"
    }
   },
   "outputs": [
    {
     "name": "stdout",
     "output_type": "stream",
     "text": [
      "WARNING:tensorflow:Falling back from v2 loop because of error: Failed to find data adapter that can handle input: <class 'pandas.core.frame.DataFrame'>, <class 'NoneType'>\n"
     ]
    },
    {
     "ename": "ValueError",
     "evalue": "Please provide as model inputs either a single array or a list of arrays. You passed: inputs=                                             images array\n132133  [[[12, 26, 14], [15, 29, 17], [19, 33, 22], [2...\n116828  [[[72, 134, 142], [72, 134, 142], [70, 133, 14...\n106849  [[[2, 6, 1], [3, 7, 2], [3, 7, 2], [3, 7, 2], ...\n19849   [[[142, 211, 200], [113, 175, 163], [93, 136, ...\n58276   [[[36, 38, 26], [35, 37, 25], [35, 37, 25], [3...\n...                                                   ...\n8888    [[[19, 22, 27], [16, 19, 24], [15, 16, 20], [1...\n124373  [[[5, 7, 7], [5, 7, 7], [5, 7, 7], [6, 8, 8], ...\n113133  [[[0, 9, 12], [1, 10, 13], [1, 10, 13], [3, 12...\n13957   [[[43, 141, 95], [36, 128, 85], [27, 113, 73],...\n32500   [[[0, 19, 31], [0, 20, 32], [1, 21, 32], [4, 2...\n\n[1034 rows x 1 columns]",
     "output_type": "error",
     "traceback": [
      "\u001b[1;31m---------------------------------------------------------------------------\u001b[0m",
      "\u001b[1;31mValueError\u001b[0m                                Traceback (most recent call last)",
      "\u001b[1;32m<ipython-input-167-d768f88d541e>\u001b[0m in \u001b[0;36m<module>\u001b[1;34m\u001b[0m\n\u001b[1;32m----> 1\u001b[1;33m \u001b[0mmodel\u001b[0m\u001b[1;33m.\u001b[0m\u001b[0mfit\u001b[0m\u001b[1;33m(\u001b[0m\u001b[0mX_train\u001b[0m\u001b[1;33m,\u001b[0m \u001b[0my_train\u001b[0m\u001b[1;33m)\u001b[0m\u001b[1;33m\u001b[0m\u001b[1;33m\u001b[0m\u001b[0m\n\u001b[0m",
      "\u001b[1;32mc:\\anaconda\\envs\\mytfenv\\lib\\site-packages\\tensorflow_core\\python\\keras\\engine\\training.py\u001b[0m in \u001b[0;36mfit\u001b[1;34m(self, x, y, batch_size, epochs, verbose, callbacks, validation_split, validation_data, shuffle, class_weight, sample_weight, initial_epoch, steps_per_epoch, validation_steps, validation_freq, max_queue_size, workers, use_multiprocessing, **kwargs)\u001b[0m\n\u001b[0;32m    726\u001b[0m         \u001b[0mmax_queue_size\u001b[0m\u001b[1;33m=\u001b[0m\u001b[0mmax_queue_size\u001b[0m\u001b[1;33m,\u001b[0m\u001b[1;33m\u001b[0m\u001b[1;33m\u001b[0m\u001b[0m\n\u001b[0;32m    727\u001b[0m         \u001b[0mworkers\u001b[0m\u001b[1;33m=\u001b[0m\u001b[0mworkers\u001b[0m\u001b[1;33m,\u001b[0m\u001b[1;33m\u001b[0m\u001b[1;33m\u001b[0m\u001b[0m\n\u001b[1;32m--> 728\u001b[1;33m         use_multiprocessing=use_multiprocessing)\n\u001b[0m\u001b[0;32m    729\u001b[0m \u001b[1;33m\u001b[0m\u001b[0m\n\u001b[0;32m    730\u001b[0m   def evaluate(self,\n",
      "\u001b[1;32mc:\\anaconda\\envs\\mytfenv\\lib\\site-packages\\tensorflow_core\\python\\keras\\engine\\training_arrays.py\u001b[0m in \u001b[0;36mfit\u001b[1;34m(self, model, x, y, batch_size, epochs, verbose, callbacks, validation_split, validation_data, shuffle, class_weight, sample_weight, initial_epoch, steps_per_epoch, validation_steps, validation_freq, **kwargs)\u001b[0m\n\u001b[0;32m    640\u001b[0m         \u001b[0msteps\u001b[0m\u001b[1;33m=\u001b[0m\u001b[0msteps_per_epoch\u001b[0m\u001b[1;33m,\u001b[0m\u001b[1;33m\u001b[0m\u001b[1;33m\u001b[0m\u001b[0m\n\u001b[0;32m    641\u001b[0m         \u001b[0mvalidation_split\u001b[0m\u001b[1;33m=\u001b[0m\u001b[0mvalidation_split\u001b[0m\u001b[1;33m,\u001b[0m\u001b[1;33m\u001b[0m\u001b[1;33m\u001b[0m\u001b[0m\n\u001b[1;32m--> 642\u001b[1;33m         shuffle=shuffle)\n\u001b[0m\u001b[0;32m    643\u001b[0m \u001b[1;33m\u001b[0m\u001b[0m\n\u001b[0;32m    644\u001b[0m     \u001b[1;32mif\u001b[0m \u001b[0mvalidation_data\u001b[0m\u001b[1;33m:\u001b[0m\u001b[1;33m\u001b[0m\u001b[1;33m\u001b[0m\u001b[0m\n",
      "\u001b[1;32mc:\\anaconda\\envs\\mytfenv\\lib\\site-packages\\tensorflow_core\\python\\keras\\engine\\training.py\u001b[0m in \u001b[0;36m_standardize_user_data\u001b[1;34m(self, x, y, sample_weight, class_weight, batch_size, check_steps, steps_name, steps, validation_split, shuffle, extract_tensors_from_dataset)\u001b[0m\n\u001b[0;32m   2417\u001b[0m     \u001b[1;31m# First, we build the model on the fly if necessary.\u001b[0m\u001b[1;33m\u001b[0m\u001b[1;33m\u001b[0m\u001b[1;33m\u001b[0m\u001b[0m\n\u001b[0;32m   2418\u001b[0m     \u001b[1;32mif\u001b[0m \u001b[1;32mnot\u001b[0m \u001b[0mself\u001b[0m\u001b[1;33m.\u001b[0m\u001b[0minputs\u001b[0m\u001b[1;33m:\u001b[0m\u001b[1;33m\u001b[0m\u001b[1;33m\u001b[0m\u001b[0m\n\u001b[1;32m-> 2419\u001b[1;33m       \u001b[0mall_inputs\u001b[0m\u001b[1;33m,\u001b[0m \u001b[0my_input\u001b[0m\u001b[1;33m,\u001b[0m \u001b[0mdict_inputs\u001b[0m \u001b[1;33m=\u001b[0m \u001b[0mself\u001b[0m\u001b[1;33m.\u001b[0m\u001b[0m_build_model_with_inputs\u001b[0m\u001b[1;33m(\u001b[0m\u001b[0mx\u001b[0m\u001b[1;33m,\u001b[0m \u001b[0my\u001b[0m\u001b[1;33m)\u001b[0m\u001b[1;33m\u001b[0m\u001b[1;33m\u001b[0m\u001b[0m\n\u001b[0m\u001b[0;32m   2420\u001b[0m       \u001b[0mis_build_called\u001b[0m \u001b[1;33m=\u001b[0m \u001b[1;32mTrue\u001b[0m\u001b[1;33m\u001b[0m\u001b[1;33m\u001b[0m\u001b[0m\n\u001b[0;32m   2421\u001b[0m     \u001b[1;32melse\u001b[0m\u001b[1;33m:\u001b[0m\u001b[1;33m\u001b[0m\u001b[1;33m\u001b[0m\u001b[0m\n",
      "\u001b[1;32mc:\\anaconda\\envs\\mytfenv\\lib\\site-packages\\tensorflow_core\\python\\keras\\engine\\training.py\u001b[0m in \u001b[0;36m_build_model_with_inputs\u001b[1;34m(self, inputs, targets)\u001b[0m\n\u001b[0;32m   2580\u001b[0m     \u001b[1;31m# or lists of arrays, and extract a flat list of inputs from the passed\u001b[0m\u001b[1;33m\u001b[0m\u001b[1;33m\u001b[0m\u001b[1;33m\u001b[0m\u001b[0m\n\u001b[0;32m   2581\u001b[0m     \u001b[1;31m# structure.\u001b[0m\u001b[1;33m\u001b[0m\u001b[1;33m\u001b[0m\u001b[1;33m\u001b[0m\u001b[0m\n\u001b[1;32m-> 2582\u001b[1;33m     \u001b[0mtraining_utils\u001b[0m\u001b[1;33m.\u001b[0m\u001b[0mvalidate_input_types\u001b[0m\u001b[1;33m(\u001b[0m\u001b[0minputs\u001b[0m\u001b[1;33m,\u001b[0m \u001b[0morig_inputs\u001b[0m\u001b[1;33m)\u001b[0m\u001b[1;33m\u001b[0m\u001b[1;33m\u001b[0m\u001b[0m\n\u001b[0m\u001b[0;32m   2583\u001b[0m \u001b[1;33m\u001b[0m\u001b[0m\n\u001b[0;32m   2584\u001b[0m     \u001b[1;32mif\u001b[0m \u001b[0misinstance\u001b[0m\u001b[1;33m(\u001b[0m\u001b[0minputs\u001b[0m\u001b[1;33m,\u001b[0m \u001b[1;33m(\u001b[0m\u001b[0mlist\u001b[0m\u001b[1;33m,\u001b[0m \u001b[0mtuple\u001b[0m\u001b[1;33m)\u001b[0m\u001b[1;33m)\u001b[0m\u001b[1;33m:\u001b[0m\u001b[1;33m\u001b[0m\u001b[1;33m\u001b[0m\u001b[0m\n",
      "\u001b[1;32mc:\\anaconda\\envs\\mytfenv\\lib\\site-packages\\tensorflow_core\\python\\keras\\engine\\training_utils.py\u001b[0m in \u001b[0;36mvalidate_input_types\u001b[1;34m(inp, orig_inp, allow_dict, field_name)\u001b[0m\n\u001b[0;32m   1149\u001b[0m     raise ValueError(\n\u001b[0;32m   1150\u001b[0m         \u001b[1;34m'Please provide as model inputs either a single array or a list of '\u001b[0m\u001b[1;33m\u001b[0m\u001b[1;33m\u001b[0m\u001b[0m\n\u001b[1;32m-> 1151\u001b[1;33m         'arrays. You passed: {}={}'.format(field_name, orig_inp))\n\u001b[0m\u001b[0;32m   1152\u001b[0m \u001b[1;33m\u001b[0m\u001b[0m\n\u001b[0;32m   1153\u001b[0m \u001b[1;33m\u001b[0m\u001b[0m\n",
      "\u001b[1;31mValueError\u001b[0m: Please provide as model inputs either a single array or a list of arrays. You passed: inputs=                                             images array\n132133  [[[12, 26, 14], [15, 29, 17], [19, 33, 22], [2...\n116828  [[[72, 134, 142], [72, 134, 142], [70, 133, 14...\n106849  [[[2, 6, 1], [3, 7, 2], [3, 7, 2], [3, 7, 2], ...\n19849   [[[142, 211, 200], [113, 175, 163], [93, 136, ...\n58276   [[[36, 38, 26], [35, 37, 25], [35, 37, 25], [3...\n...                                                   ...\n8888    [[[19, 22, 27], [16, 19, 24], [15, 16, 20], [1...\n124373  [[[5, 7, 7], [5, 7, 7], [5, 7, 7], [6, 8, 8], ...\n113133  [[[0, 9, 12], [1, 10, 13], [1, 10, 13], [3, 12...\n13957   [[[43, 141, 95], [36, 128, 85], [27, 113, 73],...\n32500   [[[0, 19, 31], [0, 20, 32], [1, 21, 32], [4, 2...\n\n[1034 rows x 1 columns]"
     ]
    }
   ],
   "source": [
    "model.fit(X_train, y_train)"
   ]
  },
  {
   "cell_type": "code",
   "execution_count": null,
   "metadata": {},
   "outputs": [],
   "source": []
  }
 ],
 "metadata": {
  "kernelspec": {
   "display_name": "Python 3",
   "language": "python",
   "name": "python3"
  },
  "language_info": {
   "codemirror_mode": {
    "name": "ipython",
    "version": 3
   },
   "file_extension": ".py",
   "mimetype": "text/x-python",
   "name": "python",
   "nbconvert_exporter": "python",
   "pygments_lexer": "ipython3",
   "version": "3.7.10"
  }
 },
 "nbformat": 4,
 "nbformat_minor": 4
}
